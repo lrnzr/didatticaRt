{
    "cells": [
        {
            "cell_type": "markdown",
            "source": [
                "# Nuovi positivi e medie mobili\r\n",
                "\r\n",
                "*In questo notebook si rappresentano con uno scatter plot i nuovi positivi e se ne interpolano i valori con medie mobili su 7 o 14 giorni. L'asse temporale si può esprimere in mesi oppure nel numero di giorni trascorsi dall'inizio (24/02/2020) della pandemia.*"
            ],
            "metadata": {}
        },
        {
            "cell_type": "code",
            "execution_count": null,
            "source": [
                "import json\r\n",
                "import matplotlib.pyplot as plt\r\n",
                "import numpy as np\r\n",
                "import datetime"
            ],
            "outputs": [],
            "metadata": {}
        },
        {
            "cell_type": "markdown",
            "source": [
                "La funzione partiziona `xDati` in un array di array. Ciascun elemento ha lunghezza `intervalloGiorni` e il loro numero è pari a `n-intervalloGiorni+1`."
            ],
            "metadata": {}
        },
        {
            "cell_type": "code",
            "execution_count": null,
            "source": [
                "def partiziona(xdati, intervalloGiorni):\r\n",
                "    numElem = len(xdati)\r\n",
                "    elementi = []\r\n",
                "    for i in range(intervalloGiorni, numElem + 1):\r\n",
                "        elementi = np.append(elementi, xdati[i-intervalloGiorni:i])\r\n",
                "    return np.reshape(elementi, (numElem - intervalloGiorni + 1, intervalloGiorni))\r\n",
                "    #################################################################################################################"
            ],
            "outputs": [],
            "metadata": {}
        },
        {
            "cell_type": "markdown",
            "source": [
                "Informazioni da inserire in input per iniziare l'elaborazione dei dati nazionali o regionali memorizzati nei file corrispondenti alla data scelta. Viene inoltre richiesta l'unità temporale da porre in ascissa."
            ],
            "metadata": {}
        },
        {
            "cell_type": "code",
            "execution_count": null,
            "source": [
                "print()\r\n",
                "print(\"Si intendono elaborare i nuovi positivi nazionali (i) o quelli di una regione (r)? \")\r\n",
                "scelta = input(\" :> \")\r\n",
                "print(\"Inserire la data nel formato (YYYYMMDD) \")\r\n",
                "dataISO = input(\" :> \")\r\n",
                "print(\"Si vuole l'asse temporale espresso in mesi (m) o in giorni trascorsi (g) dall'inizio pandemia? \")\r\n",
                "unitaAssex = input(\" :> \")"
            ],
            "outputs": [],
            "metadata": {}
        },
        {
            "cell_type": "markdown",
            "source": [
                "Vengono composti i nomi dei file e quindi si carica nel'array `nuoviPositivi` i dati rilevati"
            ],
            "metadata": {}
        },
        {
            "cell_type": "code",
            "execution_count": null,
            "source": [
                "if scelta == \"i\":\r\n",
                "    regioneScelta = \"ITALIA\"\r\n",
                "    nomeFile = 'datiNazionali' + dataISO\r\n",
                "    # lettura del file csv: la colonna 8 corrisponde al campo nuovi_positivi\r\n",
                "    nuoviPositivi = np.genfromtxt(nomeFile + '.csv', delimiter=',', skip_header=1, usecols=8, dtype=int)\r\n",
                "else:\r\n",
                "    print(\"Inserire la regione \")\r\n",
                "    regioneScelta = input(\" :> \")\r\n",
                "    regioneScelta = regioneScelta.lower().capitalize()\r\n",
                "    nomeFile = 'datiRegionali' + dataISO\r\n",
                "    # lettura del file json e quindi si riporta l'array ad un array di Numpy\r\n",
                "    with open(nomeFile + '.json') as f:\r\n",
                "        datiGrezzi = json.load(f)\r\n",
                "    nuoviPositivi = []\r\n",
                "    for record in datiGrezzi:\r\n",
                "        if record['denominazione_regione'] == regioneScelta:\r\n",
                "            nuoviPositivi.append(record['nuovi_positivi'])\r\n",
                "    nuoviPositivi = np.array(nuoviPositivi)\r\n",
                "\r\n",
                "#################################################################################################################"
            ],
            "outputs": [],
            "metadata": {}
        },
        {
            "cell_type": "markdown",
            "source": [
                "Si definiscono le ampiezze degli intervalli entro cui calcolare le medie mobili dopo aver partizionato coerentemente l'array `nuoviPositivi`."
            ],
            "metadata": {}
        },
        {
            "cell_type": "code",
            "execution_count": null,
            "source": [
                "intervalloGiorni = 14\r\n",
                "medie = np.mean(partiziona(nuoviPositivi, intervalloGiorni), axis=1)\r\n",
                "intervalloGiorni7 = 7\r\n",
                "medie7 = np.mean(partiziona(nuoviPositivi, intervalloGiorni7), axis=1)\r\n"
            ],
            "outputs": [],
            "metadata": {}
        },
        {
            "cell_type": "markdown",
            "source": [
                "Elementi utili per la parte grafica"
            ],
            "metadata": {}
        },
        {
            "cell_type": "code",
            "execution_count": null,
            "source": [
                "numGiorni = len(nuoviPositivi)\r\n",
                "codificaItaliana = dataISO[6:] + '-' + dataISO[4:6] + '-' + dataISO[:4]\r\n",
                "massimoPositivi = np.max(nuoviPositivi)\r\n",
                "#################################################################################################################"
            ],
            "outputs": [],
            "metadata": {}
        },
        {
            "cell_type": "markdown",
            "source": [
                "Inizia la parte grafica comune e quindi quella dipendente dalla scelta iniziale dell'asse temporale."
            ],
            "metadata": {}
        },
        {
            "cell_type": "code",
            "execution_count": null,
            "source": [
                "# parte grafica comune\r\n",
                "plt.rcParams['figure.figsize'] = [12, 6]\r\n",
                "fig, ax = plt.subplots()\r\n",
                "ax.set_title(regioneScelta + \": media mobile su \" + str(intervalloGiorni7) + \" e \" + str(intervalloGiorni) + \" giorni dei nuovi positivi\")\r\n",
                "ax.set_ylabel('nuovi positivi giornalieri')\r\n",
                "ax.grid(which='both', color='.85', linestyle='-', linewidth=1)\r\n",
                "# parte variabile\r\n",
                "if unitaAssex == \"m\":\r\n",
                "    # sono necessari due insiemi di dati temporali in quanto il numero dei valori medi è diverso dal numero dei dati iniziali\r\n",
                "    date1 = [datetime.date(2020, 2, 24) + datetime.timedelta(days=i) for i in range(numGiorni-1)]\r\n",
                "    ax.scatter(date1, nuoviPositivi[1:], s=4, color='cornflowerblue', label='nuovi positivi', zorder=3)\r\n",
                "    date2 = [datetime.date(2020, 2, 24) + datetime.timedelta(days=int(intervalloGiorni/2)) + datetime.timedelta(days=i)\r\n",
                "             for i in range(numGiorni-intervalloGiorni+1)]\r\n",
                "    ax.plot(date2, medie, color='r', label=\"media mobile su \" + str(intervalloGiorni) + \" giorni\", zorder=5)\r\n",
                "    date7 = [datetime.date(2020, 2, 24) + datetime.timedelta(days=int(intervalloGiorni7/2)) + datetime.timedelta(days=i)\r\n",
                "             for i in range(numGiorni-intervalloGiorni7+1)]\r\n",
                "    ax.plot(date7, medie7, color='yellowgreen', linewidth=3, label=\"media mobile su \" + str(intervalloGiorni7) + \" giorni\", zorder=4)\r\n",
                "    ax.set_xlabel('date dal 24/02/2020')\r\n",
                "    ax.text(datetime.date(2020, 6, 15), massimoPositivi/2, 'aggiornato il\\n' + codificaItaliana)\r\n",
                "else:\r\n",
                "    days = np.linspace(1, numGiorni, numGiorni)\r\n",
                "    ax.scatter(days, nuoviPositivi, marker='.', color='cornflowerblue', label='nuovi positivi')\r\n",
                "    ax.plot(days[(intervalloGiorni7-1):]-(intervalloGiorni7/2), medie7, color='yellowgreen',\r\n",
                "            linewidth=3, label=\"media mobile su \" + str(intervalloGiorni7) + \" giorni\")\r\n",
                "    ax.plot(days[(intervalloGiorni-1):]-(intervalloGiorni/2), medie, color='r', label=\"media mobile su \" + str(intervalloGiorni) + \" giorni\")\r\n",
                "    ax.set_xlabel('giorni dal 24 febbraio 2020')\r\n",
                "    x_major_ticks = np.arange(0, numGiorni+20, 20)\r\n",
                "    ax.set_xticks(x_major_ticks)\r\n",
                "    ax.text(70, massimoPositivi/2, 'aggiornato il\\n' + codificaItaliana)\r\n",
                "\r\n",
                "plt.legend()\r\n",
                "plt.show()\r\n",
                "#################################################################################################################"
            ],
            "outputs": [],
            "metadata": {}
        }
    ],
    "metadata": {
        "orig_nbformat": 4,
        "language_info": {
            "name": "python",
            "version": "3.7.4",
            "mimetype": "text/x-python",
            "codemirror_mode": {
                "name": "ipython",
                "version": 3
            },
            "pygments_lexer": "ipython3",
            "nbconvert_exporter": "python",
            "file_extension": ".py"
        },
        "kernelspec": {
            "name": "python3",
            "display_name": "Python 3.7.4 64-bit"
        },
        "interpreter": {
            "hash": "0600588c3b5f4418cbe7b5ebc6825b479f3bc010269d8b60d75058cdd010adfe"
        }
    },
    "nbformat": 4,
    "nbformat_minor": 2
}