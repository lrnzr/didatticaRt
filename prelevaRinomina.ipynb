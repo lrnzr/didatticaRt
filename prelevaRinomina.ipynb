{
 "cells": [
  {
   "cell_type": "markdown",
   "source": [
    "## Consultazione\r\n",
    "\r\n",
    "<p>Per una consultazione *non interattiva* dei notebook e dei dati selezionare l'icona sottostante di *nbviewer*. Selezionare quindi nell'elenco dei notebook quello che si intende visualizzare.\r\n",
    "\r\n",
    "<a href=\"https://nbviewer.jupyter.org/github/lrnzr/didatticaRt/tree/main/\"><img src=\"nbviewer_badge.svg\" alt=\"consultazione notebook\" title=\"consultazione notebook\"></a></p>"
   ],
   "metadata": {}
  },
  {
   "cell_type": "markdown",
   "source": [
    "# Preleva e rinomina\r\n",
    "\r\n",
    "*Questo notebook preleva dal sito del Dipartimento della Protezione Civile (DPC) i due file distribuiti giornalmente contenenti i dati nazionali e regionali sulla diffusione della pandemia di Covid-19. La presenza di questi due file nella cartella corrente è necessaria se si intendono avviare i notebook distribuiti assieme a questo.*"
   ],
   "metadata": {}
  },
  {
   "cell_type": "markdown",
   "source": [
    "Carica i seguenti due moduli. Nel caso di una elaborazione locale e se qualcuno non sia installato, avviarne il prelievo e installazione con il comando da shell\r\n",
    "\r\n",
    "> pip install nomeModulo"
   ],
   "metadata": {}
  },
  {
   "cell_type": "code",
   "execution_count": 1,
   "source": [
    "import os\r\n",
    "import requests"
   ],
   "outputs": [],
   "metadata": {}
  },
  {
   "cell_type": "markdown",
   "source": [
    "Gli URL (indirizzi) dai quali prelevare i file (distribuiti alle ore 17 dal DPC)\r\n",
    "\r\n",
    "`dati-json/dpc-covid19-ita-regioni.json` e\r\n",
    "`dati-andamento-nazionale/dpc-covid19-ita-andamento-nazionale.csv`."
   ],
   "metadata": {}
  },
  {
   "cell_type": "code",
   "execution_count": 2,
   "source": [
    "url1 = \"https://raw.githubusercontent.com/pcm-dpc/COVID-19/master/dati-json/dpc-covid19-ita-regioni.json\"\r\n",
    "url2 = \"https://raw.githubusercontent.com/pcm-dpc/COVID-19/master/dati-andamento-nazionale/dpc-covid19-ita-andamento-nazionale.csv\""
   ],
   "outputs": [],
   "metadata": {}
  },
  {
   "cell_type": "markdown",
   "source": [
    "Si avvia il prelievo e quindi vengono memorizzati localmente nella medesima cartella di questo notebook."
   ],
   "metadata": {}
  },
  {
   "cell_type": "code",
   "execution_count": 3,
   "source": [
    "downloaded_obj1 = requests.get(url1)\r\n",
    "downloaded_obj2 = requests.get(url2)\r\n",
    "\r\n",
    "with open(\"dpc-covid19-ita-regioni.json\", \"wb\") as file:\r\n",
    "    file.write(downloaded_obj1.content)\r\n",
    "with open(\"dpc-covid19-ita-andamento-nazionale.csv\", \"wb\") as file:\r\n",
    "    file.write(downloaded_obj2.content)"
   ],
   "outputs": [],
   "metadata": {}
  },
  {
   "cell_type": "markdown",
   "source": [
    "Al prompt ` :> ` si chiede la data cui si riferiscono (se prima delle 17, la data del giorno precedente). Questa va inserita nel formato ISO, YYYYMMDD (es. 20210718 per intendere il 18 luglio 2021)."
   ],
   "metadata": {}
  },
  {
   "cell_type": "code",
   "execution_count": null,
   "source": [
    "print(\"Inserire la data nel formato YYYYMMDD \")\r\n",
    "dataCorrispondente = input(\" :> \")"
   ],
   "outputs": [],
   "metadata": {
    "scrolled": true
   }
  },
  {
   "cell_type": "markdown",
   "source": [
    "Definita come destinazione la cartella corrente, si compongono le stringhe dei nomi "
   ],
   "metadata": {}
  },
  {
   "cell_type": "code",
   "execution_count": 5,
   "source": [
    "os.chdir  = '.'\r\n",
    "cartellaDestinazione = '.'\r\n",
    "datiRegione   = 'dpc-covid19-ita-regioni.json'\r\n",
    "nuovoNomeDatiRegionali   = 'datiRegionali'+ dataCorrispondente +'.json'\r\n",
    "datiNazionali   = 'dpc-covid19-ita-andamento-nazionale.csv'\r\n",
    "nuovoNomeDatiNazionali   = 'datiNazionali'+ dataCorrispondente +'.csv'"
   ],
   "outputs": [],
   "metadata": {}
  },
  {
   "cell_type": "markdown",
   "source": [
    "ed infine si rinominano come `datiRegionaliYYYYMMDD.json` e `datiNazionaliYYYYMMDD.csv`."
   ],
   "metadata": {}
  },
  {
   "cell_type": "code",
   "execution_count": 6,
   "source": [
    "os.rename(datiRegione, cartellaDestinazione +'/'+ nuovoNomeDatiRegionali)\r\n",
    "os.rename(datiNazionali, cartellaDestinazione +'/'+ nuovoNomeDatiNazionali)"
   ],
   "outputs": [],
   "metadata": {}
  }
 ],
 "metadata": {
  "interpreter": {
   "hash": "767d51c1340bd893661ea55ea3124f6de3c7a262a8b4abca0554b478b1e2ff90"
  },
  "kernelspec": {
   "display_name": "Python 3",
   "language": "python",
   "name": "python3"
  },
  "language_info": {
   "codemirror_mode": {
    "name": "ipython",
    "version": 3
   },
   "file_extension": ".py",
   "mimetype": "text/x-python",
   "name": "python",
   "nbconvert_exporter": "python",
   "pygments_lexer": "ipython3",
   "version": "3.8.10"
  }
 },
 "nbformat": 4,
 "nbformat_minor": 2
}