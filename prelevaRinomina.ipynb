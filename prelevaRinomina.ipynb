{
 "cells": [
  {
   "cell_type": "markdown",
   "metadata": {},
   "source": [
    "# Preleva e rinomina\n",
    "\n",
    "*Questo notebook preleva dal sito del Dipartimento della Protezione Civile i due file distribuiti giornalmente contenenti i dati nazionali e regionali sulla diffusione della pandemia di Covid-19.*"
   ]
  },
  {
   "cell_type": "markdown",
   "metadata": {},
   "source": [
    "Carica i seguenti due moduli e nel caso qualcuno non sia installato procedere con il comando da shell\n",
    "\n",
    "> pip install nomeModulo"
   ]
  },
  {
   "cell_type": "code",
   "execution_count": 1,
   "metadata": {},
   "outputs": [],
   "source": [
    "import os\n",
    "import requests"
   ]
  },
  {
   "cell_type": "markdown",
   "metadata": {},
   "source": [
    "Di seguito si definiscono gli URL dai quali prelevare i file (distribuiti alle ore 17 dal DPC)\n",
    "\n",
    "`dati-json/dpc-covid19-ita-regioni.json` e\n",
    "`dati-andamento-nazionale/dpc-covid19-ita-andamento-nazionale.csv`."
   ]
  },
  {
   "cell_type": "code",
   "execution_count": 2,
   "metadata": {},
   "outputs": [],
   "source": [
    "url1 = \"https://raw.githubusercontent.com/pcm-dpc/COVID-19/master/dati-json/dpc-covid19-ita-regioni.json\"\n",
    "url2 = \"https://raw.githubusercontent.com/pcm-dpc/COVID-19/master/dati-andamento-nazionale/dpc-covid19-ita-andamento-nazionale.csv\""
   ]
  },
  {
   "cell_type": "markdown",
   "metadata": {},
   "source": [
    "Si prelevano e si salvano localmente nella stessa cartella di questo notebook."
   ]
  },
  {
   "cell_type": "code",
   "execution_count": 3,
   "metadata": {},
   "outputs": [],
   "source": [
    "downloaded_obj1 = requests.get(url1)\n",
    "downloaded_obj2 = requests.get(url2)\n",
    "\n",
    "with open(\"dpc-covid19-ita-regioni.json\", \"wb\") as file:\n",
    "    file.write(downloaded_obj1.content)\n",
    "with open(\"dpc-covid19-ita-andamento-nazionale.csv\", \"wb\") as file:\n",
    "    file.write(downloaded_obj2.content)"
   ]
  },
  {
   "cell_type": "markdown",
   "metadata": {},
   "source": [
    "Volendo rinominarli inserendo la data cui si riferiscono, questa va inserita nel formato ISO, YYYYMMDD (es. 20210718 per intendere il 18 luglio 2021)."
   ]
  },
  {
   "cell_type": "code",
   "execution_count": null,
   "metadata": {
    "scrolled": true
   },
   "outputs": [],
   "source": [
    "print(\"Inserire la data nel formato YYYYMMDD \")\n",
    "dataCorrispondente = input(\" :> \")"
   ]
  },
  {
   "cell_type": "markdown",
   "metadata": {},
   "source": [
    "Definita come destinazione la cartella corrente, si compongono le stringhe dei nomi "
   ]
  },
  {
   "cell_type": "code",
   "execution_count": 5,
   "metadata": {},
   "outputs": [],
   "source": [
    "os.chdir  = '.'\n",
    "cartellaDestinazione = '.'\n",
    "datiRegione   = 'dpc-covid19-ita-regioni.json'\n",
    "nuovoNomeDatiRegionali   = 'datiRegionali'+ dataCorrispondente +'.json'\n",
    "datiNazionali   = 'dpc-covid19-ita-andamento-nazionale.csv'\n",
    "nuovoNomeDatiNazionali   = 'datiNazionali'+ dataCorrispondente +'.csv'"
   ]
  },
  {
   "cell_type": "markdown",
   "metadata": {},
   "source": [
    "ed infine si rinominano come `datiRegionaliYYYYMMDD.json` e `datiNazionaliYYYYMMDD.csv`."
   ]
  },
  {
   "cell_type": "code",
   "execution_count": 6,
   "metadata": {},
   "outputs": [],
   "source": [
    "os.rename(datiRegione, cartellaDestinazione +'/'+ nuovoNomeDatiRegionali)\n",
    "\n",
    "os.rename(datiNazionali, cartellaDestinazione +'/'+ nuovoNomeDatiNazionali)"
   ]
  }
 ],
 "metadata": {
  "interpreter": {
   "hash": "767d51c1340bd893661ea55ea3124f6de3c7a262a8b4abca0554b478b1e2ff90"
  },
  "kernelspec": {
   "display_name": "Python 3",
   "language": "python",
   "name": "python3"
  },
  "language_info": {
   "codemirror_mode": {
    "name": "ipython",
    "version": 3
   },
   "file_extension": ".py",
   "mimetype": "text/x-python",
   "name": "python",
   "nbconvert_exporter": "python",
   "pygments_lexer": "ipython3",
   "version": "3.8.10"
  }
 },
 "nbformat": 4,
 "nbformat_minor": 2
}
