{
    "cells": [
        {
            "cell_type": "markdown",
            "source": [
                "# Calcola il tasso di crescita &lambda; e lo rappresenta graficamente\r\n",
                "\r\n",
                "*Per determinare il tasso di crescita &lambda; viene innanzitutto linearizzata la relazione esponenziale che lo coinvolge e quindi su tale base si ottiene il valore giornaliero e il suo andamento tramite una media mobile di 14 giorni.* "
            ],
            "metadata": {}
        },
        {
            "cell_type": "markdown",
            "source": [
                "Carica i moduli necessari"
            ],
            "metadata": {}
        },
        {
            "cell_type": "code",
            "execution_count": null,
            "source": [
                "import json\r\n",
                "import matplotlib.pyplot as plt\r\n",
                "import numpy as np\r\n",
                "from scipy.stats import linregress\r\n",
                "import datetime"
            ],
            "outputs": [],
            "metadata": {}
        },
        {
            "cell_type": "markdown",
            "source": [
                "La funzione `partiziona()` partiziona `xDati` in un array di array. Ciascun elemento ha lunghezza `intervalloGiorni` e il loro numero è pari a `n-intervalloGiorni+1`."
            ],
            "metadata": {}
        },
        {
            "cell_type": "code",
            "execution_count": null,
            "source": [
                "def partiziona(xdati, intervalloGiorni):\r\n",
                "    numElem = len(xdati)\r\n",
                "    elementi = []\r\n",
                "    for i in range(intervalloGiorni, numElem + 1):\r\n",
                "        elementi = np.append(elementi, xdati[i-intervalloGiorni:i])\r\n",
                "    return np.reshape(elementi, (numElem - intervalloGiorni + 1, intervalloGiorni))"
            ],
            "outputs": [],
            "metadata": {}
        },
        {
            "cell_type": "markdown",
            "source": [
                "Informazioni da inserire in input per iniziare l'elaborazione dei dati nazionali o regionali memorizzati nei file corrispondenti alla data scelta. Viene inoltre richiesta l'unità temporale da porre in ascissa."
            ],
            "metadata": {}
        },
        {
            "cell_type": "code",
            "execution_count": null,
            "source": [
                "print()\r\n",
                "print(\"Si intendono elaborare i nuovi positivi nazionali (i) o quelli di una regione (r)? \")\r\n",
                "scelta = input(\" :> \")\r\n",
                "print(\"Inserire la data nel formato (YYYMMDD) \")\r\n",
                "dataISO = input(\" :> \")\r\n",
                "print(\"Si vuole l'asse temporale espresso in mesi (m) o in giorni trascorsi (g) dall'inizio pandemia? \")\r\n",
                "unitaAssex = input(\" :> \")"
            ],
            "outputs": [],
            "metadata": {}
        },
        {
            "cell_type": "markdown",
            "source": [
                "Vengono composti i nomi dei file e quindi si carica nell'array `nuoviPositivi` i dati rilevati"
            ],
            "metadata": {}
        },
        {
            "cell_type": "code",
            "execution_count": null,
            "source": [
                "if scelta == \"i\":\r\n",
                "    regioneScelta = \"ITALIA\"\r\n",
                "    nomeFile = 'datiNazionali' + dataISO\r\n",
                "    # lettura del file csv: la colonna 8 corrisponde al campo nuovi_positivi\r\n",
                "    nuoviPositivi = np.genfromtxt(nomeFile + '.csv', delimiter=',', skip_header=1, usecols=8, dtype=int)\r\n",
                "else:\r\n",
                "    print(\"Inserire la regione \")\r\n",
                "    regioneScelta = input(\" :> \")\r\n",
                "    regioneScelta = regioneScelta.lower().capitalize()\r\n",
                "    nomeFile = 'datiRegionali' + dataISO\r\n",
                "    # lettura del file json e riportato l'array ad un array di Numpy\r\n",
                "    with open(nomeFile + '.json') as f:\r\n",
                "        datiGrezzi = json.load(f)\r\n",
                "    nuoviPositivi = []\r\n",
                "    for record in datiGrezzi:\r\n",
                "        if record['denominazione_regione'] == regioneScelta:\r\n",
                "            nuoviPositivi.append(record['nuovi_positivi'])\r\n",
                "    nuoviPositivi = np.array(nuoviPositivi)\r\n",
                "\r\n",
                "#################################################################################################################"
            ],
            "outputs": [],
            "metadata": {}
        },
        {
            "cell_type": "markdown",
            "source": [
                "A seguito della linearizzazione della relazione esponenziale che lega il parametro &lambda; (tasso di crescita) al logaritmo naturale dei nuovi positivi, nel caso (improbabile) che si abbia in un giorno `nuoviPositivi=0`, si corregge il dato ponendolo pari a `nuoviPositivi=0`. "
            ],
            "metadata": {}
        },
        {
            "cell_type": "code",
            "execution_count": null,
            "source": [
                "nuoviPositivi[nuoviPositivi == 0] = 1\r\n",
                "logPositivi = np.log(nuoviPositivi)\r\n",
                "numGiorni = len(nuoviPositivi)\r\n",
                "intervalloGiorni = 14\r\n",
                "# i giorni da 0 a 13 nel quale viene eseguito il fit\r\n",
                "giorniDelFit = np.arange(0, intervalloGiorni, 1)"
            ],
            "outputs": [],
            "metadata": {}
        },
        {
            "cell_type": "markdown",
            "source": [
                "Viene eseguita la regressione lineare assegnando la pendenza al parametro &lambda;."
            ],
            "metadata": {}
        },
        {
            "cell_type": "code",
            "execution_count": null,
            "source": [
                "valoriLambdaLin = []\r\n",
                "for i in range(intervalloGiorni, numGiorni+1):\r\n",
                "    # fit lineare\r\n",
                "    esito = linregress(giorniDelFit, logPositivi[i-intervalloGiorni:i])\r\n",
                "    valoriLambdaLin = np.append(valoriLambdaLin, esito.slope)"
            ],
            "outputs": [],
            "metadata": {}
        },
        {
            "cell_type": "markdown",
            "source": [
                "Qui si esegue la media mobile dei valori giornalieri di &lambda; ottenuti precedentemente su un intervallo di 14 giorni."
            ],
            "metadata": {}
        },
        {
            "cell_type": "code",
            "execution_count": null,
            "source": [
                "media14Giorni = np.mean(partiziona(valoriLambdaLin, intervalloGiorni), axis=1)\r\n",
                "\r\n",
                "#################################################################################################################"
            ],
            "outputs": [],
            "metadata": {}
        },
        {
            "cell_type": "markdown",
            "source": [
                "Inizia la parte grafica comune e quindi quella dipendente dalla scelta iniziale dell'asse temporale. Le variabili temporali `date1`, `date2`, `xValoriMediGiornalieri` e `xMediaMobile` controllano la traslazione temporale dei valori in ordinata e sono scelte in modo da ottenere un accordo visivo soddisfacente con i dati giornalieri e in coerenza con il sito [CovidStat](https://covid19.infn.it/)."
            ],
            "metadata": {}
        },
        {
            "cell_type": "code",
            "execution_count": null,
            "source": [
                "# parte comune\r\n",
                "codificaItaliana = dataISO[6:] + '-' + dataISO[4:6] + '-' + dataISO[:4]\r\n",
                "plt.rcParams['figure.figsize'] = [12, 6]\r\n",
                "fig, ax = plt.subplots()\r\n",
                "ax.grid(which='both', color='.85', linestyle='-', linewidth=1)\r\n",
                "ax.set_ylabel('tasso di crescita λ (1/giorni)')\r\n",
                "ax.set_title(regioneScelta + \": tasso di crescita giornaliero λ (regressione lineare)\\ne media mobile su 14 giorni\")\r\n",
                "# parte variabile\r\n",
                "if unitaAssex == \"m\":\r\n",
                "    date1 = [datetime.date(2020, 3, 1) + datetime.timedelta(days=int(intervalloGiorni/2)) + datetime.timedelta(days=i)\r\n",
                "                 for i in range(numGiorni-intervalloGiorni+1)]\r\n",
                "    ax.scatter(date1, valoriLambdaLin, s=4, label='λ giornaliero', zorder=3)\r\n",
                "    date2 = [datetime.date(2020, 3, 8) + datetime.timedelta(days=int(intervalloGiorni/2)) + datetime.timedelta(days=i)\r\n",
                "                 for i in range(numGiorni-intervalloGiorni-12)]\r\n",
                "    ax.plot(date2, media14Giorni, color='tomato', linewidth=2, label='media mobile λ su 14 giorni', zorder=4)\r\n",
                "    ax.set_xlabel('date dal 24 febbraio 2020')\r\n",
                "    ax.text(datetime.date(2020, 5, 13), 0.16, 'aggiornato il\\n' + codificaItaliana)\r\n",
                "else:\r\n",
                "    xValoriMediGiornalieri = np.arange(intervalloGiorni-1, numGiorni)\r\n",
                "    xMediaMobile = np.arange(intervalloGiorni+5, numGiorni-intervalloGiorni/2)\r\n",
                "    ax.scatter(xValoriMediGiornalieri, valoriLambdaLin, s=4, label='λ giornaliero', zorder=3)\r\n",
                "    ax.plot(xMediaMobile, media14Giorni, color='tomato', linewidth=2, label='media mobile λ su 14 giorni', zorder=4)\r\n",
                "    ax.text(85, 0.16, 'aggiornato il\\n' + codificaItaliana)\r\n",
                "    ax.set_xlabel('giorni dal 24 febbraio 2020')\r\n",
                "    x_major_ticks = np.arange(0, numGiorni+20, 20)\r\n",
                "    ax.set_xticks(x_major_ticks)\r\n",
                "\r\n",
                "plt.legend()\r\n",
                "plt.show()\r\n",
                "#################################################################################################################"
            ],
            "outputs": [],
            "metadata": {}
        }
    ],
    "metadata": {
        "orig_nbformat": 4,
        "language_info": {
            "name": "python",
            "version": "3.7.4",
            "mimetype": "text/x-python",
            "codemirror_mode": {
                "name": "ipython",
                "version": 3
            },
            "pygments_lexer": "ipython3",
            "nbconvert_exporter": "python",
            "file_extension": ".py"
        },
        "kernelspec": {
            "name": "python3",
            "display_name": "Python 3.7.4 64-bit"
        },
        "interpreter": {
            "hash": "0600588c3b5f4418cbe7b5ebc6825b479f3bc010269d8b60d75058cdd010adfe"
        }
    },
    "nbformat": 4,
    "nbformat_minor": 2
}